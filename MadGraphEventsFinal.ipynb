{
  "nbformat": 4,
  "nbformat_minor": 0,
  "metadata": {
    "colab": {
      "name": "MadGraphEvents.ipynb",
      "provenance": [],
      "collapsed_sections": [],
      "mount_file_id": "1_rleDTSWt2YmC_5jJLG1AYCMxRFkGQMf",
      "authorship_tag": "ABX9TyO3MHWjlbLt0GDNghjZcRT3",
      "include_colab_link": true
    },
    "kernelspec": {
      "name": "python3",
      "display_name": "Python 3"
    },
    "language_info": {
      "name": "python"
    }
  },
  "cells": [
    {
      "cell_type": "markdown",
      "metadata": {
        "id": "view-in-github",
        "colab_type": "text"
      },
      "source": [
        "<a href=\"https://colab.research.google.com/github/jcabarcau/Me/blob/main/MadGraphEventsFinal.ipynb\" target=\"_parent\"><img src=\"https://colab.research.google.com/assets/colab-badge.svg\" alt=\"Open In Colab\"/></a>"
      ]
    },
    {
      "cell_type": "markdown",
      "metadata": {
        "id": "O3a3hA1ExFV1"
      },
      "source": [
        "# **Actividad: Organización de Datos y obtención de Gráficas de variables invariantes a partir de Simulaciones de MadGraph.**"
      ]
    },
    {
      "cell_type": "code",
      "metadata": {
        "id": "itn0b3dIwsxA"
      },
      "source": [
        "#@author: jcabarcau"
      ],
      "execution_count": null,
      "outputs": []
    },
    {
      "cell_type": "markdown",
      "metadata": {
        "id": "PxHgV9CLzDPe"
      },
      "source": [
        "Importamos nuestras librerías:"
      ]
    },
    {
      "cell_type": "code",
      "metadata": {
        "id": "1MTY0R4mzCre"
      },
      "source": [
        "import pandas as pd\n",
        "import numpy as np\n",
        "import matplotlib.pyplot as plt\n",
        "from scipy.stats import norm\n",
        "import plotly.express as px"
      ],
      "execution_count": null,
      "outputs": []
    },
    {
      "cell_type": "markdown",
      "metadata": {
        "id": "zfs-lE_RyHaY"
      },
      "source": [
        "# **Procesamiento del archivo de salida de MadGraph en formato LHE usando Bash.**"
      ]
    },
    {
      "cell_type": "markdown",
      "metadata": {
        "id": "jwFpviK21Su4"
      },
      "source": [
        "Usamos bash/shell para extraer los renglones que nos interesan (7, 8, 9 y 10) del archivo \"unweighted_Events.lhe\" ubicado en nuestro Drive y los guardamos en un nuevo archivo llamado \"eventos_pxpypzE.csv\", el cuál se guardará temporalmente, mientras sea utilizado en el Colab."
      ]
    },
    {
      "cell_type": "code",
      "metadata": {
        "id": "1iOCm0umy3Kz"
      },
      "source": [
        "%shell\n",
        "!cat /content/unweighted_events.lhe | grep \"13  \" | awk '{print $7\", \"$8\", \"$9\", \"$10}' > /content/eventos_pxpypzE.csv"
      ],
      "execution_count": null,
      "outputs": []
    },
    {
      "cell_type": "markdown",
      "metadata": {
        "id": "BgCo1qQW0XKS"
      },
      "source": [
        "Mostramos la parte superior (header/encabezado) de nuestro nuevo dataset filtrado:"
      ]
    },
    {
      "cell_type": "code",
      "metadata": {
        "id": "96D1Y8Dc0d-D"
      },
      "source": [
        "events=pd.read_csv(\"/content/eventos_pxpypzE.csv\",header=None,delimiter=',',dtype=np.float64) \n",
        "events.head()"
      ],
      "execution_count": null,
      "outputs": []
    },
    {
      "cell_type": "markdown",
      "metadata": {
        "id": "S0_1ZQUO1sBr"
      },
      "source": [
        "Cada columna representa los momentos $p_x$, $p_y$, $p_z$, y la energía $E$ de cada partícula."
      ]
    },
    {
      "cell_type": "markdown",
      "metadata": {
        "id": "WKBziOLi2AaT"
      },
      "source": [
        "# **Obtención de los histogramas del momento transverso y del momento total.**"
      ]
    },
    {
      "cell_type": "markdown",
      "metadata": {
        "id": "hlPTq9o32cJX"
      },
      "source": [
        "Obtenemos los histogramas del momento transverso y del momento total, a partir de los datos de los momentos $p_x$, $p_y$ y $p_z$."
      ]
    },
    {
      "cell_type": "code",
      "metadata": {
        "id": "ITmiBrXx3AR2"
      },
      "source": [
        "momento_transverso = np.sqrt(events[0]**2+events[1]**2)\n",
        "momento_transverso = pd.DataFrame(momento_transverso)\n",
        "histograma_momento_transverso = px.histogram(momento_transverso, x = momento_transverso[0], title = 'Momento transverso')\n",
        "histograma_momento_transverso.show()"
      ],
      "execution_count": null,
      "outputs": []
    },
    {
      "cell_type": "code",
      "metadata": {
        "id": "9N1pwzyS4F0b"
      },
      "source": [
        "momento_total = np.sqrt(events[0]**2+events[1]**2+events[2]**2)\n",
        "momento_total = pd.DataFrame(momento_total)\n",
        "histograma_momento_total = px.histogram(momento_total, x = momento_total[0], title = 'Momento total')\n",
        "histograma_momento_total.show()"
      ],
      "execution_count": null,
      "outputs": []
    },
    {
      "cell_type": "markdown",
      "metadata": {
        "id": "NLeEWpnX1FYM"
      },
      "source": [
        "# **Creación de 4-vectores para su posterior manipulación.**"
      ]
    },
    {
      "cell_type": "markdown",
      "metadata": {
        "id": "pr5fGAAj85Ax"
      },
      "source": [
        "Separamos los pares de partículas en 2 grupos para luego juntarlas y representarlas en una misma columna, separadas por filas."
      ]
    },
    {
      "cell_type": "code",
      "metadata": {
        "id": "F7deOo3Q2tuG"
      },
      "source": [
        "events_0 = events.iloc[lambda x: x.index % 2 == 0]\n",
        "events_0 = events_0.reset_index(drop = True)\n",
        "\n",
        "events_1 = events.iloc[lambda x: x.index % 2 != 0]\n",
        "events_1 = events_1.reset_index(drop = True)\n",
        "\n",
        "\n",
        "events_0.rename(columns = {events_0.columns[0]: 'px1',\n",
        "                          events_0.columns[1]: 'py1',\n",
        "                          events_0.columns[2]: 'pz1',\n",
        "                          events_0.columns[3]: 'E1'}, inplace=True)\n",
        "\n",
        "events_1.rename(columns = {events_1.columns[0]: 'px2',\n",
        "                           events_1.columns[1]: 'py2',\n",
        "                           events_1.columns[2]: 'pz2',\n",
        "                           events_1.columns[3]: 'E2'}, inplace=True)\n",
        "\n",
        "datos = events_0.join(events_1)\n",
        "datos.head()"
      ],
      "execution_count": null,
      "outputs": []
    },
    {
      "cell_type": "markdown",
      "metadata": {
        "id": "87-Bi02795u7"
      },
      "source": [
        "Guardamos nuetro nuevo dataset en un nuevo archivo para su posterior manipulación."
      ]
    },
    {
      "cell_type": "code",
      "metadata": {
        "id": "ER9wsAy6-Dx_"
      },
      "source": [
        "datos.to_csv('/content/mumu')"
      ],
      "execution_count": null,
      "outputs": []
    },
    {
      "cell_type": "markdown",
      "metadata": {
        "id": "G76r_qQP4z4t"
      },
      "source": [
        "# **Obtención del histograma de la masa invariante.**"
      ]
    },
    {
      "cell_type": "markdown",
      "metadata": {
        "id": "i0X4-Zvz-7xd"
      },
      "source": [
        "Para obtener la masa invariante, primero sumamos ambos cuadrimomentos y sacamos su magnitud, recordando que en el espacio de Minkowski la masa invariante, en unidades naturales, está dada por\n",
        "\n",
        "$$m_0=\\sqrt{E^2-p_x^2-p_y^2-p_z^2}$$\n",
        "\n",
        "\n",
        "Para sacar la masa invariante de ambos muones, requerimos primero sumar sus cuadrimomentos componente a componente y sacar la magnitud, es decir\n",
        "\n",
        "$$M = \\sqrt{(E_1+E_2)^2-(p_{x_1}+p_{x_2})^2-(p_{y_1}+p_{y_2})^2-(p_{z_1}+p_{z_2})^2}$$ "
      ]
    },
    {
      "cell_type": "code",
      "metadata": {
        "id": "crXC7LIhAC9c"
      },
      "source": [
        "masa_invariante = np.sqrt( (datos['E1']+datos['E2'])**2\n",
        "                  -(datos['px1']+datos['px2']**2)\n",
        "                  -(datos['py1']+datos['py2']**2)\n",
        "                  -(datos['pz1']+datos['pz2'])**2)\n",
        "masa_invariante.head()\n",
        "\n",
        "masa_invariante = pd.DataFrame(masa_invariante)\n",
        "histograma_masa_invariante = px.histogram(masa_invariante, x = masa_invariante[0], title = 'Masa Invariante')\n",
        "histograma_masa_invariante.show()"
      ],
      "execution_count": null,
      "outputs": []
    },
    {
      "cell_type": "markdown",
      "metadata": {
        "id": "eEKmqv5tAvee"
      },
      "source": [
        "# **Distribución de $\\phi$.**"
      ]
    },
    {
      "cell_type": "markdown",
      "metadata": {
        "id": "YPbllgqXK--3"
      },
      "source": [
        "Obtenemos los valores de $\\phi_1$ y $\\phi_2$ usando la ecuación $$\\phi = \\arctan\\Big(\\frac{p_y}{p_x}\\Big)$$\n",
        "\n",
        "y realizamos los histogramas correspondientes."
      ]
    },
    {
      "cell_type": "code",
      "metadata": {
        "id": "QHMaZo6iMC1E"
      },
      "source": [
        "phi_1 = arctan(datos['py1'], datos['px1'])\n",
        "phi_2 = arctan(datos['py2'], datos['px2'])\n",
        "\n",
        "histograma_phi1=px.histogram(phi_1,x=phi_1[:],nbins=100)\n",
        "histograma_phi1.update_layout(\n",
        "    title=r\"$ \\text{ Distribucion de }  \\phi_1$\",\n",
        "    xaxis_title=\"$\\phi_1 \\t \\ {(en \\ radianes)}$\",\n",
        "    yaxis_title=\"Núm. de Eventos\")\n",
        "histograma_phi1.show()\n",
        "\n",
        "histograma_phi2=px.histogram(phi_2,x=phi_2[:],nbins=100)\n",
        "histograma_phi2.update_layout(\n",
        "    title=r\"$ \\text{ Distribucion de }  \\phi_2$\",\n",
        "    xaxis_title=\"$\\phi_2 \\t \\ {(en \\ radianes)}$\",\n",
        "    yaxis_title=\"Núm. de Eventos\")\n",
        "histograma_phi2.show()\n"
      ],
      "execution_count": null,
      "outputs": []
    },
    {
      "cell_type": "markdown",
      "metadata": {
        "id": "wqGPJ-KpRKom"
      },
      "source": [
        "# **Obtención de $\\Delta \\phi$**"
      ]
    },
    {
      "cell_type": "markdown",
      "metadata": {
        "id": "go6KD7OzRd9q"
      },
      "source": [
        "Obtenemos la Distribución de $\\Delta \\phi$, con la ecuación $\\Delta \\phi = |\\phi_2 - \\phi_1 |$, la cuál en teoría debería darnos como resultado que $\\Delta \\phi = \\pi$ rads."
      ]
    },
    {
      "cell_type": "code",
      "metadata": {
        "id": "eEtVi5zBReVP"
      },
      "source": [
        "dphi = np.abs(phi_2-phi_1)\n",
        "\n",
        "delta_phi=px.line(dphi,x=dphi[:])\n",
        "delta_phi.update_layout(\n",
        "    title=r\"$ \\text{ Distribucion de }  d\\phi$\",\n",
        "    xaxis_title=\"$\\Delta \\phi \\t \\ {(en \\ radianes)}$\",\n",
        "    yaxis_title=\"Núm. de Eventos\")\n",
        "delta_phi.show()"
      ],
      "execution_count": null,
      "outputs": []
    },
    {
      "cell_type": "markdown",
      "metadata": {
        "id": "TcafFHIjSTr-"
      },
      "source": [
        "Por lo tanto $\\Delta \\phi = \\pi$ rads. en todos los eventos, confirma que el procedimiento fue el correcto."
      ]
    },
    {
      "cell_type": "markdown",
      "metadata": {
        "id": "tlyBWS8eB8IO"
      },
      "source": [
        "# **Agradecimientos**"
      ]
    },
    {
      "cell_type": "markdown",
      "metadata": {
        "id": "Qqm6_w4_CA7f"
      },
      "source": [
        "Expreso mi total agradecimiento a la Dra. Isabel Pedraza y a mi compañero de trabajo, Alan Covarrubias por sus aportes, herramientas y enseñanzas dadas para el aprendizaje y uso de Python y Google Colab."
      ]
    }
  ]
}